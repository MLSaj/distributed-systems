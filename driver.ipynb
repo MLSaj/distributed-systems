{
 "cells": [
  {
   "cell_type": "code",
   "execution_count": 47,
   "metadata": {},
   "outputs": [],
   "source": [
    "import time\n",
    "import subprocess as sp\n",
    "import requests"
   ]
  },
  {
   "cell_type": "code",
   "execution_count": 48,
   "metadata": {},
   "outputs": [],
   "source": [
    "ports = [i for i in range(3001,3003)]\n",
    "servers = []"
   ]
  },
  {
   "cell_type": "code",
   "execution_count": 49,
   "metadata": {},
   "outputs": [],
   "source": [
    "for port in ports:\n",
    "    s = sp.Popen(\"python server.py \"+str(port), shell=True)\n",
    "    \n",
    "    servers.append(s)"
   ]
  },
  {
   "cell_type": "code",
   "execution_count": 50,
   "metadata": {},
   "outputs": [],
   "source": [
    "port = '3001'\n",
    "url = 'http://127.0.0.1:'+port+'/replicate'\n",
    "myobj = {'port': '3002'}\n",
    "\n",
    "x = requests.post(url, data = myobj)"
   ]
  },
  {
   "cell_type": "code",
   "execution_count": 42,
   "metadata": {},
   "outputs": [
    {
     "name": "stdout",
     "output_type": "stream",
     "text": [
      "<subprocess.Popen object at 0x7fd9646c8b70>\n",
      "<subprocess.Popen object at 0x7fd9646a1a58>\n"
     ]
    }
   ],
   "source": [
    "for s in servers:\n",
    "    s.terminate()"
   ]
  },
  {
   "cell_type": "markdown",
   "metadata": {},
   "source": [
    "#class SingleLeader\n",
    "\n",
    "   #methods\n",
    "    - Server instantiate\n",
    "    \n",
    "    \n",
    "    - choose leader\n",
    "    \n",
    "    - find leader \n",
    "    \n",
    "    - request_from_leader\n",
    "    \n",
    "    - write\n",
    "    \n",
    "    - get new leader\n",
    "    \n",
    " \n",
    "    \n",
    "    \n",
    "  "
   ]
  },
  {
   "cell_type": "code",
   "execution_count": 1,
   "metadata": {},
   "outputs": [
    {
     "ename": "ModuleNotFoundError",
     "evalue": "No module named 'flask.ext'",
     "output_type": "error",
     "traceback": [
      "\u001b[0;31m---------------------------------------------------------------------------\u001b[0m",
      "\u001b[0;31mModuleNotFoundError\u001b[0m                       Traceback (most recent call last)",
      "\u001b[0;32m<ipython-input-1-0f13386aed07>\u001b[0m in \u001b[0;36m<module>\u001b[0;34m\u001b[0m\n\u001b[1;32m      4\u001b[0m \u001b[0;32mimport\u001b[0m \u001b[0mmultiprocessing\u001b[0m \u001b[0;32mas\u001b[0m \u001b[0mmp\u001b[0m\u001b[0;34m\u001b[0m\u001b[0;34m\u001b[0m\u001b[0m\n\u001b[1;32m      5\u001b[0m \u001b[0;34m\u001b[0m\u001b[0m\n\u001b[0;32m----> 6\u001b[0;31m \u001b[0;32mfrom\u001b[0m \u001b[0mflask\u001b[0m\u001b[0;34m.\u001b[0m\u001b[0mext\u001b[0m\u001b[0;34m.\u001b[0m\u001b[0msession\u001b[0m \u001b[0;32mimport\u001b[0m \u001b[0mSession\u001b[0m\u001b[0;34m\u001b[0m\u001b[0;34m\u001b[0m\u001b[0m\n\u001b[0m\u001b[1;32m      7\u001b[0m \u001b[0;34m\u001b[0m\u001b[0m\n\u001b[1;32m      8\u001b[0m \u001b[0;34m\u001b[0m\u001b[0m\n",
      "\u001b[0;31mModuleNotFoundError\u001b[0m: No module named 'flask.ext'"
     ]
    }
   ],
   "source": [
    "from flask import Flask, request,session\n",
    "import sys\n",
    "import requests\n",
    "import multiprocessing as mp\n",
    "\n",
    "from flask.ext.session import Session\n",
    "\n",
    "\n",
    "def create_app():\n",
    "    app = Flask(__name__)\n",
    "    \n",
    "    sess = Session()\n",
    "    app.secret_key = 'super secret key'\n",
    "    app.config['SESSION_TYPE'] = 'filesystem'\n",
    "    sess.init_app(app)\n",
    "    \n",
    "    \n",
    "    \n",
    "    \n",
    "    @app.route(\"/get\", methods=['get'])\n",
    "    def get():\n",
    "        db = session.get('db')\n",
    "        if not db:\n",
    "            session['db'] = [0]\n",
    "            db = session['db']\n",
    "        return ''.join(str(a)+\", \" for a in db)\n",
    "    \n",
    "    \n",
    "    @app.route(\"/set\", methods=['post'])\n",
    "    def set():\n",
    "        if len(request.form) == 0:\n",
    "            return \"400: Bad Request\"\n",
    "        item = request.form[\"item\"]\n",
    "        db = session['db']\n",
    "        db.append(item)\n",
    "        session['db'] = db\n",
    "        return \"200: OK\" \n",
    "    \n",
    "    @app.route(\"/hi\", methods=['get'])\n",
    "    def hi():\n",
    "        return \"Hi\\n\"\n",
    "    \n",
    "    \n",
    "    \n",
    "    return app\n",
    "\n",
    "    #app.run(debug=False, host='0.0.0.0', port=port,use_reloader=False,threaded=True)\n",
    "    \n",
    "def make_leader(app): \n",
    "    @app.route(\"/replicate\", methods=['post','get'])\n",
    "    def replicate():\n",
    "        ''' send contents to another node '''\n",
    "\n",
    "        if len(request.form) == 0:\n",
    "            return \"400: Bad Request\"\n",
    "        port = request.form[\"port\"]\n",
    "        url=\"http://127.0.0.1:\"+port+\"/store\"\n",
    "\n",
    "        data = {'items': ''.join(str(a)+\", \" for a in g.db)}\n",
    "\n",
    "        x = requests.post(url, data=data)\n",
    "\n",
    "        return x.text\n",
    "    \n",
    "    @app.route(\"/hello\", methods=['get'])\n",
    "    def hello():\n",
    "        return \"Hello\"\n",
    "    return app\n",
    "\n",
    "\n",
    "def make_follower(app):\n",
    "    @app.route(\"/store\", methods=['post'])\n",
    "    def store():\n",
    "        ''' receive db contents from another node '''\n",
    "        if len(request.form) == 0:\n",
    "            return \"400: Bad Request\"\n",
    "        items = request.form[\"items\"]   \n",
    "        items = items[:-2]\n",
    "        #return items\n",
    "        g.db = [int(a.strip()) for a in items.split(',')]\n",
    "\n",
    "        return ''.join(str(a)+\", \" for a in g.db)\n",
    "    \n",
    "    \n"
   ]
  },
  {
   "cell_type": "code",
   "execution_count": null,
   "metadata": {},
   "outputs": [],
   "source": [
    "app = create_app()\n",
    "leader = make_leader(app)\n",
    "leader.run(debug=False, host='0.0.0.0', port=9997,use_reloader=False,threaded=True)\n",
    "\n"
   ]
  },
  {
   "cell_type": "code",
   "execution_count": 6,
   "metadata": {},
   "outputs": [],
   "source": [
    "servers = []\n",
    "for i in range(3):\n",
    "    p = mp.Process(target=create_app, args=(3000+i,))\n",
    "    p.start()\n",
    "    servers.append(p)"
   ]
  },
  {
   "cell_type": "code",
   "execution_count": 7,
   "metadata": {},
   "outputs": [
    {
     "data": {
      "text/plain": [
       "multiprocessing.context.Process"
      ]
     },
     "execution_count": 7,
     "metadata": {},
     "output_type": "execute_result"
    }
   ],
   "source": [
    "app = servers[0]\n",
    "type(app)\n",
    "\n"
   ]
  },
  {
   "cell_type": "code",
   "execution_count": null,
   "metadata": {},
   "outputs": [
    {
     "name": "stdout",
     "output_type": "stream",
     "text": [
      "Password:"
     ]
    }
   ],
   "source": [
    "!sudo pip3 install flask.ext"
   ]
  },
  {
   "cell_type": "code",
   "execution_count": null,
   "metadata": {},
   "outputs": [],
   "source": []
  }
 ],
 "metadata": {
  "kernelspec": {
   "display_name": "Python 3",
   "language": "python",
   "name": "python3"
  },
  "language_info": {
   "codemirror_mode": {
    "name": "ipython",
    "version": 3
   },
   "file_extension": ".py",
   "mimetype": "text/x-python",
   "name": "python",
   "nbconvert_exporter": "python",
   "pygments_lexer": "ipython3",
   "version": "3.7.7"
  }
 },
 "nbformat": 4,
 "nbformat_minor": 4
}
