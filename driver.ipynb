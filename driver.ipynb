{
 "cells": [
  {
   "cell_type": "code",
   "execution_count": 1,
   "metadata": {},
   "outputs": [],
   "source": [
    "import time\n",
    "import subprocess as sp\n",
    "import requests"
   ]
  },
  {
   "cell_type": "code",
   "execution_count": 2,
   "metadata": {},
   "outputs": [],
   "source": [
    "ports = [i for i in range(3001,3003)]\n",
    "servers = []"
   ]
  },
  {
   "cell_type": "code",
   "execution_count": 49,
   "metadata": {},
   "outputs": [],
   "source": [
    "for port in ports:\n",
    "    s = sp.Popen(\"python server.py \"+str(port), shell=True)\n",
    "    \n",
    "    servers.append(s)"
   ]
  },
  {
   "cell_type": "code",
   "execution_count": 50,
   "metadata": {},
   "outputs": [],
   "source": [
    "port = '3001'\n",
    "url = 'http://127.0.0.1:'+port+'/replicate'\n",
    "myobj = {'port': '3002'}\n",
    "\n",
    "x = requests.post(url, data = myobj)"
   ]
  },
  {
   "cell_type": "code",
   "execution_count": 42,
   "metadata": {},
   "outputs": [
    {
     "name": "stdout",
     "output_type": "stream",
     "text": [
      "<subprocess.Popen object at 0x7fd9646c8b70>\n",
      "<subprocess.Popen object at 0x7fd9646a1a58>\n"
     ]
    }
   ],
   "source": [
    "for s in servers:\n",
    "    s.terminate()"
   ]
  },
  {
   "cell_type": "code",
   "execution_count": null,
   "metadata": {},
   "outputs": [],
   "source": []
  },
  {
   "cell_type": "code",
   "execution_count": null,
   "metadata": {},
   "outputs": [],
   "source": []
  },
  {
   "cell_type": "code",
   "execution_count": 1,
   "metadata": {},
   "outputs": [],
   "source": [
    "from flask import Flask, request, session, jsonify\n",
    "import sys\n",
    "import requests\n",
    "import multiprocessing as mp\n",
    "\n",
    "from flask_session import Session\n",
    "\n",
    "\n",
    "def create_app():\n",
    "    app = Flask(__name__)\n",
    "    \n",
    "    sess = Session()\n",
    "    app.config['SESSION_TYPE'] = 'filesystem'\n",
    "    app.secret_key = b'_5#y2L\"F4Q8z\\n\\xec]/'\n",
    "    sess.init_app(app)\n",
    "\n",
    "    @app.route(\"/get\", methods=['get'])\n",
    "    def get():\n",
    "        db = session.get('db')\n",
    "        if not db:\n",
    "            session['db'] = [0]\n",
    "            db = session['db']\n",
    "        print(session)\n",
    "        return ''.join(str(a)+\", \" for a in db)\n",
    "    \n",
    "    \n",
    "    @app.route(\"/set\", methods=['post'])\n",
    "    def set():\n",
    "        if len(request.form) == 0:\n",
    "            return \"400: Bad Request\"\n",
    "        item = request.form[\"item\"]\n",
    "        print(session)\n",
    "        db = session.get('db')\n",
    "        print(db)\n",
    "        db.append(item)\n",
    "        session['db'] = db\n",
    "        return \"200: OK\" \n",
    "    \n",
    "    @app.route(\"/hello\", methods=['get'])\n",
    "    def hello():\n",
    "        print(session)\n",
    "        return \"Hello\"\n",
    "    return app\n",
    "\n",
    "\n",
    "    #app.run(debug=False, host='0.0.0.0', port=port,use_reloader=False,threaded=True)\n",
    "    \n",
    "def make_leader(app): \n",
    "    @app.route(\"/replicate\", methods=['post','get'])\n",
    "    def replicate():\n",
    "        ''' send contents to another node '''\n",
    "\n",
    "        if len(request.form) == 0:\n",
    "            return \"400: Bad Request\"\n",
    "        port = request.form[\"port\"]\n",
    "        url=\"http://127.0.0.1:\"+port+\"/store\"\n",
    "\n",
    "        data = {'items': ''.join(str(a)+\", \" for a in g.db)}\n",
    "\n",
    "        x = requests.post(url, data=data)\n",
    "\n",
    "        return x.text\n",
    "\n",
    "    return app\n",
    "\n",
    "\n",
    "def make_follower(app):\n",
    "    @app.route(\"/store\", methods=['post'])\n",
    "    def store():\n",
    "        ''' receive db contents from another node '''\n",
    "        if len(request.form) == 0:\n",
    "            return \"400: Bad Request\"\n",
    "        items = request.form[\"items\"]   \n",
    "        items = items[:-2]\n",
    "        #return items\n",
    "        g.db = [int(a.strip()) for a in items.split(',')]\n",
    "\n",
    "        return ''.join(str(a)+\", \" for a in g.db)\n",
    "    \n",
    "    \n"
   ]
  },
  {
   "cell_type": "code",
   "execution_count": null,
   "metadata": {},
   "outputs": [
    {
     "name": "stdout",
     "output_type": "stream",
     "text": [
      " * Serving Flask app \"__main__\" (lazy loading)\n",
      " * Environment: production\n",
      "   WARNING: This is a development server. Do not use it in a production deployment.\n",
      "   Use a production WSGI server instead.\n",
      " * Debug mode: off\n"
     ]
    },
    {
     "name": "stderr",
     "output_type": "stream",
     "text": [
      " * Running on http://0.0.0.0:9997/ (Press CTRL+C to quit)\n",
      "127.0.0.1 - - [07/Jun/2020 15:33:59] \"GET /get HTTP/1.1\" 200 -\n"
     ]
    },
    {
     "name": "stdout",
     "output_type": "stream",
     "text": [
      "<FileSystemSession {'_permanent': True, 'db': [0]}>\n"
     ]
    },
    {
     "name": "stderr",
     "output_type": "stream",
     "text": [
      "127.0.0.1 - - [07/Jun/2020 15:34:02] \"GET /hello HTTP/1.1\" 200 -\n"
     ]
    },
    {
     "name": "stdout",
     "output_type": "stream",
     "text": [
      "<FileSystemSession {'_permanent': True}>\n"
     ]
    },
    {
     "name": "stderr",
     "output_type": "stream",
     "text": [
      "[2020-06-07 15:34:09,477] ERROR in app: Exception on /set [POST]\n",
      "Traceback (most recent call last):\n",
      "  File \"/home/gov/anaconda3/lib/python3.7/site-packages/flask/app.py\", line 2446, in wsgi_app\n",
      "    response = self.full_dispatch_request()\n",
      "  File \"/home/gov/anaconda3/lib/python3.7/site-packages/flask/app.py\", line 1951, in full_dispatch_request\n",
      "    rv = self.handle_user_exception(e)\n",
      "  File \"/home/gov/anaconda3/lib/python3.7/site-packages/flask/app.py\", line 1820, in handle_user_exception\n",
      "    reraise(exc_type, exc_value, tb)\n",
      "  File \"/home/gov/anaconda3/lib/python3.7/site-packages/flask/_compat.py\", line 39, in reraise\n",
      "    raise value\n",
      "  File \"/home/gov/anaconda3/lib/python3.7/site-packages/flask/app.py\", line 1949, in full_dispatch_request\n",
      "    rv = self.dispatch_request()\n",
      "  File \"/home/gov/anaconda3/lib/python3.7/site-packages/flask/app.py\", line 1935, in dispatch_request\n",
      "    return self.view_functions[rule.endpoint](**req.view_args)\n",
      "  File \"<ipython-input-1-8ec80c816d78>\", line 35, in set\n",
      "    db.append(item)\n",
      "AttributeError: 'NoneType' object has no attribute 'append'\n",
      "127.0.0.1 - - [07/Jun/2020 15:34:09] \"POST /set HTTP/1.1\" 500 -\n"
     ]
    },
    {
     "name": "stdout",
     "output_type": "stream",
     "text": [
      "<FileSystemSession {'_permanent': True}>\n",
      "None\n"
     ]
    }
   ],
   "source": [
    "app = create_app()\n",
    "leader = make_leader(app)\n",
    "leader.run(debug=False, host='0.0.0.0', port=9997,use_reloader=False,threaded=True)\n",
    "\n"
   ]
  },
  {
   "cell_type": "code",
   "execution_count": 6,
   "metadata": {},
   "outputs": [],
   "source": [
    "servers = []\n",
    "for i in range(3):\n",
    "    p = mp.Process(target=create_app, args=(3000+i,))\n",
    "    p.start()\n",
    "    servers.append(p)"
   ]
  },
  {
   "cell_type": "code",
   "execution_count": 7,
   "metadata": {},
   "outputs": [
    {
     "data": {
      "text/plain": [
       "multiprocessing.context.Process"
      ]
     },
     "execution_count": 7,
     "metadata": {},
     "output_type": "execute_result"
    }
   ],
   "source": [
    "app = servers[0]\n",
    "type(app)\n",
    "\n"
   ]
  },
  {
   "cell_type": "code",
   "execution_count": null,
   "metadata": {},
   "outputs": [
    {
     "name": "stdout",
     "output_type": "stream",
     "text": [
      "Password:"
     ]
    }
   ],
   "source": [
    "!sudo pip3 install flask.ext"
   ]
  },
  {
   "cell_type": "code",
   "execution_count": null,
   "metadata": {},
   "outputs": [],
   "source": []
  }
 ],
 "metadata": {
  "kernelspec": {
   "display_name": "Python 3",
   "language": "python",
   "name": "python3"
  },
  "language_info": {
   "codemirror_mode": {
    "name": "ipython",
    "version": 3
   },
   "file_extension": ".py",
   "mimetype": "text/x-python",
   "name": "python",
   "nbconvert_exporter": "python",
   "pygments_lexer": "ipython3",
   "version": "3.7.3"
  }
 },
 "nbformat": 4,
 "nbformat_minor": 4
}
