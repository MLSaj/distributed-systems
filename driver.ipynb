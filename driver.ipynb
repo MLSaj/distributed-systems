{
 "cells": [
  {
   "cell_type": "code",
   "execution_count": 1,
   "metadata": {},
   "outputs": [],
   "source": [
    "import time\n",
    "import subprocess as sp\n",
    "import requests"
   ]
  },
  {
   "cell_type": "code",
   "execution_count": 2,
   "metadata": {},
   "outputs": [],
   "source": [
    "ports = [i for i in range(3001,3003)]\n",
    "servers = []"
   ]
  },
  {
   "cell_type": "code",
   "execution_count": 49,
   "metadata": {},
   "outputs": [],
   "source": [
    "for port in ports:\n",
    "    s = sp.Popen(\"python server.py \"+str(port), shell=True)\n",
    "    \n",
    "    servers.append(s)"
   ]
  },
  {
   "cell_type": "code",
   "execution_count": 50,
   "metadata": {},
   "outputs": [],
   "source": [
    "port = '3001'\n",
    "url = 'http://127.0.0.1:'+port+'/replicate'\n",
    "myobj = {'port': '3002'}\n",
    "\n",
    "x = requests.post(url, data = myobj)"
   ]
  },
  {
   "cell_type": "code",
   "execution_count": 42,
   "metadata": {},
   "outputs": [
    {
     "name": "stdout",
     "output_type": "stream",
     "text": [
      "<subprocess.Popen object at 0x7fd9646c8b70>\n",
      "<subprocess.Popen object at 0x7fd9646a1a58>\n"
     ]
    }
   ],
   "source": [
    "for s in servers:\n",
    "    s.terminate()"
   ]
  },
  {
   "cell_type": "code",
   "execution_count": 2,
   "metadata": {},
   "outputs": [
    {
     "name": "stdout",
     "output_type": "stream",
     "text": [
      "hello\n"
     ]
    }
   ],
   "source": []
  },
  {
   "cell_type": "code",
   "execution_count": null,
   "metadata": {},
   "outputs": [],
   "source": []
  },
  {
   "cell_type": "code",
   "execution_count": 34,
   "metadata": {},
   "outputs": [],
   "source": [
    "from flask import Flask, request, session, jsonify\n",
    "import sys\n",
    "import requests\n",
    "import multiprocessing as mp\n",
    "\n",
    "import redis\n",
    "\n",
    "\n",
    "def create_app(db_number):\n",
    "    app = Flask(__name__)\n",
    "    r = redis.Redis(db=db_number)\n",
    "    r.mset({\"db\": \"0\"}) \n",
    "    \n",
    "\n",
    "    @app.route(\"/get\", methods=['get'])\n",
    "    def get():\n",
    "        db = r.get(\"db\") \n",
    "        return db\n",
    "    \n",
    "    \n",
    "    @app.route(\"/set\", methods=['post'])\n",
    "    def set():\n",
    "        if len(request.form) == 0:\n",
    "            return \"400: Bad Request\"\n",
    "        item = request.form[\"item\"]\n",
    "        db = r.get(\"db\")\n",
    "        new_db = db.decode('utf-8')\n",
    "        new_db += ',' + item\n",
    "        r.mset({\"db\":new_db})\n",
    "        return \"200: OK\" \n",
    "    \n",
    "    @app.route(\"/hello\", methods=['get'])\n",
    "    def hello():\n",
    "        return \"Hello\"\n",
    "    return app\n",
    "\n",
    "\n",
    "    #app.run(debug=False, host='0.0.0.0', port=port,use_reloader=False,threaded=True)\n",
    "    \n",
    "def make_leader(app,db_number): \n",
    "    r = redis.Redis(db=db_number)\n",
    "    @app.route(\"/replicate\", methods=['post','get'])\n",
    "    def replicate():\n",
    "        ''' send contents to another node '''\n",
    "\n",
    "        if len(request.form) == 0:\n",
    "            return \"400: Bad Request\"\n",
    "        port = request.form[\"port\"]\n",
    "        url=\"http://127.0.0.1:\"+port+\"/store\"\n",
    "\n",
    "        data = {'items': ''.join(str(a)+\", \" for a in g.db)}\n",
    "\n",
    "        x = requests.post(url, data=data)\n",
    "\n",
    "        return x.text\n",
    "\n",
    "    return app\n",
    "\n",
    "\n",
    "def make_follower(app,db_number):\n",
    "    r = redis.Redis(db=db_number)\n",
    "    @app.route(\"/store\", methods=['post'])\n",
    "    def store():\n",
    "        ''' receive db contents from another node '''\n",
    "        if len(request.form) == 0:\n",
    "            return \"400: Bad Request\"\n",
    "        items = request.form[\"items\"]   \n",
    "        items = items[:-2]\n",
    "        #return items\n",
    "        g.db = [int(a.strip()) for a in items.split(',')]\n",
    "\n",
    "        return ''.join(str(a)+\", \" for a in g.db)\n",
    "    \n",
    "    \n"
   ]
  },
  {
   "cell_type": "code",
   "execution_count": null,
   "metadata": {},
   "outputs": [
    {
     "name": "stdout",
     "output_type": "stream",
     "text": [
      " * Serving Flask app \"__main__\" (lazy loading)\n",
      " * Environment: production\n",
      "\u001b[31m   WARNING: This is a development server. Do not use it in a production deployment.\u001b[0m\n",
      "\u001b[2m   Use a production WSGI server instead.\u001b[0m\n",
      " * Debug mode: off\n"
     ]
    },
    {
     "name": "stderr",
     "output_type": "stream",
     "text": [
      " * Running on http://0.0.0.0:9997/ (Press CTRL+C to quit)\n",
      "127.0.0.1 - - [07/Jun/2020 23:00:07] \"\u001b[37mGET /hello HTTP/1.1\u001b[0m\" 200 -\n",
      "127.0.0.1 - - [07/Jun/2020 23:00:12] \"\u001b[37mGET /get HTTP/1.1\u001b[0m\" 200 -\n",
      "127.0.0.1 - - [07/Jun/2020 23:01:52] \"\u001b[37mPOST /set HTTP/1.1\u001b[0m\" 200 -\n",
      "127.0.0.1 - - [07/Jun/2020 23:01:58] \"\u001b[37mGET /get HTTP/1.1\u001b[0m\" 200 -\n"
     ]
    }
   ],
   "source": [
    "app = create_app(0)\n",
    "leader = make_leader(app,0)\n",
    "leader.run(debug=False, host='0.0.0.0', port=9997,use_reloader=False,threaded=True)\n"
   ]
  },
  {
   "cell_type": "code",
   "execution_count": 6,
   "metadata": {},
   "outputs": [],
   "source": [
    "servers = []\n",
    "for i in range(3):\n",
    "    p = mp.Process(target=create_app, args=(3000+i,))\n",
    "    p.start()\n",
    "    servers.append(p)"
   ]
  },
  {
   "cell_type": "code",
   "execution_count": 7,
   "metadata": {},
   "outputs": [
    {
     "data": {
      "text/plain": [
       "multiprocessing.context.Process"
      ]
     },
     "execution_count": 7,
     "metadata": {},
     "output_type": "execute_result"
    }
   ],
   "source": [
    "app = servers[0]\n",
    "type(app)\n",
    "\n"
   ]
  },
  {
   "cell_type": "code",
   "execution_count": 7,
   "metadata": {},
   "outputs": [],
   "source": [
    "from flask import Flask\n",
    "from flask_session import Session\n",
    "import redis\n",
    "r = redis.Redis()\n",
    "r2 = redis.Redis(db=1)"
   ]
  },
  {
   "cell_type": "code",
   "execution_count": 10,
   "metadata": {},
   "outputs": [
    {
     "data": {
      "text/plain": [
       "True"
      ]
     },
     "execution_count": 10,
     "metadata": {},
     "output_type": "execute_result"
    }
   ],
   "source": [
    "r.mset({\"Macbook\": \"Pro\"})"
   ]
  },
  {
   "cell_type": "code",
   "execution_count": 11,
   "metadata": {},
   "outputs": [
    {
     "data": {
      "text/plain": [
       "b'Pro'"
      ]
     },
     "execution_count": 11,
     "metadata": {},
     "output_type": "execute_result"
    }
   ],
   "source": [
    "r.get(\"Macbook\")"
   ]
  },
  {
   "cell_type": "code",
   "execution_count": 12,
   "metadata": {},
   "outputs": [],
   "source": [
    "r2 = redis.Redis(db=1)\n",
    "r2.get(\"Macbook\")"
   ]
  },
  {
   "cell_type": "code",
   "execution_count": 33,
   "metadata": {},
   "outputs": [
    {
     "data": {
      "text/plain": [
       "b'0,4'"
      ]
     },
     "execution_count": 33,
     "metadata": {},
     "output_type": "execute_result"
    }
   ],
   "source": [
    "r.mset({\"db\":\"0\"})\n",
    "db = r.get(\"db\")\n",
    "new_db = db.decode('utf-8')\n",
    "new_db += ',' + item\n",
    "r.mset({\"db\":new_db})\n",
    "r.get(\"db\")"
   ]
  },
  {
   "cell_type": "code",
   "execution_count": null,
   "metadata": {},
   "outputs": [],
   "source": []
  },
  {
   "cell_type": "code",
   "execution_count": null,
   "metadata": {},
   "outputs": [],
   "source": []
  },
  {
   "cell_type": "code",
   "execution_count": 22,
   "metadata": {},
   "outputs": [
    {
     "data": {
      "text/plain": [
       "b'1,2,3,4,5'"
      ]
     },
     "execution_count": 22,
     "metadata": {},
     "output_type": "execute_result"
    }
   ],
   "source": [
    "r.mset({\"LanguageList\": \"1,2,3,4,5\"})\n",
    "r.get(\"LanguageList\")"
   ]
  },
  {
   "cell_type": "code",
   "execution_count": 23,
   "metadata": {},
   "outputs": [
    {
     "data": {
      "text/plain": [
       "b'1,2,3,4,5,6'"
      ]
     },
     "execution_count": 23,
     "metadata": {},
     "output_type": "execute_result"
    }
   ],
   "source": [
    "r.mset({\"LanguageList\": \"1,2,3,4,5,6\"})\n",
    "r.get(\"LanguageList\")"
   ]
  },
  {
   "cell_type": "code",
   "execution_count": 27,
   "metadata": {},
   "outputs": [],
   "source": [
    "from os import environ\n",
    "import redis\n",
    "SESSION_REDIS = redis.from_url('redis://127.0.0.1:6379')\n",
    "SESSION_TYPE = "
   ]
  },
  {
   "cell_type": "code",
   "execution_count": 25,
   "metadata": {},
   "outputs": [
    {
     "name": "stdout",
     "output_type": "stream",
     "text": [
      "None\n"
     ]
    }
   ],
   "source": [
    "print(b)"
   ]
  },
  {
   "cell_type": "code",
   "execution_count": null,
   "metadata": {},
   "outputs": [],
   "source": []
  }
 ],
 "metadata": {
  "kernelspec": {
   "display_name": "Python 3",
   "language": "python",
   "name": "python3"
  },
  "language_info": {
   "codemirror_mode": {
    "name": "ipython",
    "version": 3
   },
   "file_extension": ".py",
   "mimetype": "text/x-python",
   "name": "python",
   "nbconvert_exporter": "python",
   "pygments_lexer": "ipython3",
   "version": "3.7.7"
  }
 },
 "nbformat": 4,
 "nbformat_minor": 4
}
