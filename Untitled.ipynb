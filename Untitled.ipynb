{
 "cells": [
  {
   "cell_type": "code",
   "execution_count": 47,
   "metadata": {},
   "outputs": [],
   "source": [
    "import time\n",
    "import subprocess as sp\n",
    "import requests"
   ]
  },
  {
   "cell_type": "code",
   "execution_count": 48,
   "metadata": {},
   "outputs": [],
   "source": [
    "ports = [i for i in range(3001,3003)]\n",
    "servers = []"
   ]
  },
  {
   "cell_type": "code",
   "execution_count": 49,
   "metadata": {},
   "outputs": [],
   "source": [
    "for port in ports:\n",
    "    s = sp.Popen(\"python server.py \"+str(port), shell=True)\n",
    "    \n",
    "    servers.append(s)"
   ]
  },
  {
   "cell_type": "code",
   "execution_count": 50,
   "metadata": {},
   "outputs": [],
   "source": [
    "# for:\n",
    "#     time.sleep(3)\n",
    "port = '3001'\n",
    "url = 'http://127.0.0.1:'+port+'/replicate'\n",
    "myobj = {'port': '3002'}\n",
    "\n",
    "x = requests.post(url, data = myobj)"
   ]
  },
  {
   "cell_type": "code",
   "execution_count": 41,
   "metadata": {},
   "outputs": [
    {
     "data": {
      "text/plain": [
       "200"
      ]
     },
     "execution_count": 41,
     "metadata": {},
     "output_type": "execute_result"
    }
   ],
   "source": [
    "x.status_code"
   ]
  },
  {
   "cell_type": "code",
   "execution_count": 42,
   "metadata": {},
   "outputs": [
    {
     "name": "stdout",
     "output_type": "stream",
     "text": [
      "<subprocess.Popen object at 0x7fd9646c8b70>\n",
      "<subprocess.Popen object at 0x7fd9646a1a58>\n"
     ]
    }
   ],
   "source": [
    "for s in servers:\n",
    "    s.terminate()"
   ]
  },
  {
   "cell_type": "markdown",
   "metadata": {},
   "source": [
    "#class SingleLeader\n",
    "\n",
    "   #methods\n",
    "    - Server instantiate\n",
    "    \n",
    "    \n",
    "    - choose leader\n",
    "    \n",
    "    - find leader \n",
    "    \n",
    "    - request_from_leader\n",
    "    \n",
    "    - write\n",
    "    \n",
    "    - get new leader\n",
    "    \n",
    " \n",
    "    \n",
    "    \n",
    "  "
   ]
  },
  {
   "cell_type": "code",
   "execution_count": 28,
   "metadata": {},
   "outputs": [
    {
     "data": {
      "text/plain": [
       "'hello there'"
      ]
     },
     "execution_count": 28,
     "metadata": {},
     "output_type": "execute_result"
    }
   ],
   "source": [
    "from flask import Flask, request\n",
    "import sys\n",
    "import requests\n",
    "\n",
    "if len(sys.argv) < 2:\n",
    "    print(\"Error: port not specified\")\n",
    "    sys.exit(1)\n",
    "    \n",
    "port = sys.argv[1]\n",
    "\n",
    "app = Flask(__name__)\n",
    "\n",
    "\n",
    "\n",
    "db= [0]\n",
    "\n",
    "@app.route(\"/get\", methods=['get'])\n",
    "def get():\n",
    "    return ''.join(str(a)+\", \" for a in db)\n",
    "\n",
    "\n",
    "@app.route(\"/set\", methods=['post'])\n",
    "def set():\n",
    "    if len(request.form) == 0:\n",
    "        return \"400: Bad Request\"\n",
    "    item = request.form[\"item\"]\n",
    "    db.append(int(item))\n",
    "    return \"200: OK\"\n",
    "\n",
    "@app.route(\"/store\", methods=['post'])\n",
    "def store():\n",
    "    ''' receive db contents from another node '''\n",
    "    if len(request.form) == 0:\n",
    "        return \"400: Bad Request\"\n",
    "    items = request.form[\"items\"]\n",
    "    global db   \n",
    "    items = items[:-2]\n",
    "    #return items\n",
    "    db = [int(a.strip()) for a in items.split(',')]\n",
    "    \n",
    "    return ''.join(str(a)+\", \" for a in db)\n",
    "\n",
    "@app.route(\"/replicate\", methods=['post'])\n",
    "def replicate():\n",
    "    ''' send contents to another node '''\n",
    "    \n",
    "    if len(request.form) == 0:\n",
    "        return \"400: Bad Request\"\n",
    "    port = request.form[\"port\"]\n",
    "    url=\"http://127.0.0.1:\"+port+\"/store\"\n",
    "    \n",
    "    data = {'items': ''.join(str(a)+\", \" for a in db)}\n",
    "\n",
    "    x = requests.post(url, data=data)\n",
    "    \n",
    "    return x.text\n",
    "\n",
    "app.run(debug=True, host='0.0.0.0', port=port)"
   ]
  },
  {
   "cell_type": "code",
   "execution_count": 1,
   "metadata": {},
   "outputs": [],
   "source": [
    "from flask import Flask, request\n",
    "import sys\n",
    "import requests\n",
    "def create_app():\n",
    "    app = Flask(__name__)\n",
    "    db = [0]\n",
    "    \n",
    "    @app.route(\"/get\", methods=['get'])\n",
    "    def get():\n",
    "        return ''.join(str(a)+\", \" for a in db)\n",
    "    \n",
    "    \n",
    "    @app.route(\"/set\", methods=['post'])\n",
    "    def set():\n",
    "        if len(request.form) == 0:\n",
    "            return \"400: Bad Request\"\n",
    "        item = request.form[\"item\"]\n",
    "        db.append(int(item))\n",
    "        return \"200: OK\"\n",
    "\n",
    "    return app\n",
    "\n",
    "    \n",
    "    \n",
    "    "
   ]
  },
  {
   "cell_type": "code",
   "execution_count": 2,
   "metadata": {},
   "outputs": [],
   "source": [
    "#create_server(port_number)"
   ]
  },
  {
   "cell_type": "code",
   "execution_count": null,
   "metadata": {},
   "outputs": [],
   "source": [
    "def create_server(port): \n",
    "    app = create_app()\n",
    "    app.run(debug=True, host='0.0.0.0', port=port,use_reloader=False)\n",
    "    "
   ]
  },
  {
   "cell_type": "code",
   "execution_count": null,
   "metadata": {},
   "outputs": [],
   "source": [
    "test = create_server(9998)"
   ]
  }
 ],
 "metadata": {
  "kernelspec": {
   "display_name": "Python 3",
   "language": "python",
   "name": "python3"
  },
  "language_info": {
   "codemirror_mode": {
    "name": "ipython",
    "version": 3
   },
   "file_extension": ".py",
   "mimetype": "text/x-python",
   "name": "python",
   "nbconvert_exporter": "python",
   "pygments_lexer": "ipython3",
   "version": "3.7.7"
  }
 },
 "nbformat": 4,
 "nbformat_minor": 4
}
